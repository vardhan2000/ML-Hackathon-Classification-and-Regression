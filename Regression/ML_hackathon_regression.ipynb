{
  "cells": [
    {
      "cell_type": "markdown",
      "metadata": {
        "id": "8u9aGY2hDi0O"
      },
      "source": [
        "## import and introduction"
      ]
    },
    {
      "cell_type": "code",
      "execution_count": 1,
      "metadata": {
        "colab": {
          "base_uri": "https://localhost:8080/"
        },
        "id": "xcoqHeGxAipI",
        "outputId": "a9934baf-6e01-48aa-b3f1-39b4c419f0ee"
      },
      "outputs": [],
      "source": [
        "import numpy as np \n",
        "import pandas as pd\n",
        "import matplotlib.pyplot as plt\n",
        "import seaborn as sns\n",
        "import sklearn.linear_model as linear_model"
      ]
    },
    {
      "cell_type": "markdown",
      "metadata": {
        "id": "drFbpFiIFOa-"
      },
      "source": [
        "# Preprocessing\n",
        "\n",
        "## Read train and test data files"
      ]
    },
    {
      "cell_type": "code",
      "execution_count": 2,
      "metadata": {
        "id": "GmEq897yFYSH"
      },
      "outputs": [],
      "source": [
        "import sklearn.preprocessing as preprocessing \n",
        "\n",
        "main_df = pd.read_csv(\"train.csv\")\n",
        "test_df = pd.read_csv(\"test.csv\")"
      ]
    },
    {
      "cell_type": "code",
      "execution_count": 3,
      "metadata": {
        "colab": {
          "base_uri": "https://localhost:8080/"
        },
        "id": "yUF4OZqVHALP",
        "outputId": "daf54197-0265-4dae-b394-95296fb90823"
      },
      "outputs": [
        {
          "name": "stdout",
          "output_type": "stream",
          "text": [
            "   ID      x-inv    y-inv       force\n",
            "0   0 -24.234234 -50.0000  117.616636\n",
            "1   1  21.771772 -49.8999  132.928749\n",
            "2   2  12.702703 -49.7998  114.418568\n",
            "3   3  22.792793 -49.6997  130.401770\n",
            "4   4  -0.150150 -49.5996  123.536669\n"
          ]
        }
      ],
      "source": [
        "print(main_df.head())"
      ]
    },
    {
      "cell_type": "code",
      "execution_count": 4,
      "metadata": {
        "id": "qrxAGfRAdel-"
      },
      "outputs": [],
      "source": [
        "main_df_copy =main_df.copy()\n",
        "main_df.drop(axis=\"columns\", labels=\"ID\", inplace=True)"
      ]
    },
    {
      "cell_type": "markdown",
      "metadata": {
        "id": "PQ2Z0ZxaXCab"
      },
      "source": [
        "## Check for duplicated rows"
      ]
    },
    {
      "cell_type": "code",
      "execution_count": 5,
      "metadata": {
        "colab": {
          "base_uri": "https://localhost:8080/"
        },
        "id": "BTSTF7htlK3R",
        "outputId": "28262fc1-05d4-4239-e850-2c144f7e7b73"
      },
      "outputs": [
        {
          "name": "stdout",
          "output_type": "stream",
          "text": [
            "0\n",
            "   ID      x-inv    y-inv       force\n",
            "0   0 -24.234234 -50.0000  117.616636\n",
            "1   1  21.771772 -49.8999  132.928749\n",
            "2   2  12.702703 -49.7998  114.418568\n",
            "3   3  22.792793 -49.6997  130.401770\n",
            "4   4  -0.150150 -49.5996  123.536669\n"
          ]
        }
      ],
      "source": [
        "print(main_df.duplicated().sum())\n",
        "main_df = main_df_copy.copy()\n",
        "print(main_df.head())"
      ]
    },
    {
      "cell_type": "markdown",
      "metadata": {
        "id": "pgAt74oGXPOP"
      },
      "source": [
        "## Check for missing values"
      ]
    },
    {
      "cell_type": "code",
      "execution_count": 6,
      "metadata": {
        "colab": {
          "base_uri": "https://localhost:8080/"
        },
        "id": "YrkaILUEXT_I",
        "outputId": "0791f2e1-c9ce-4f88-f63c-c3af9bf2bf29"
      },
      "outputs": [
        {
          "name": "stdout",
          "output_type": "stream",
          "text": [
            "ID       0\n",
            "x-inv    0\n",
            "y-inv    0\n",
            "force    0\n",
            "dtype: int64 \n",
            "\n",
            "ID       0\n",
            "x-inv    0\n",
            "y-inv    0\n",
            "force    0\n",
            "dtype: int64\n"
          ]
        }
      ],
      "source": [
        "print(main_df.isna().sum(),\"\\n\")\n",
        "print((main_df == \"?\").sum())"
      ]
    },
    {
      "cell_type": "markdown",
      "metadata": {
        "id": "0n3WOw_dYSgv"
      },
      "source": [
        "## Checking for datatypes of each column"
      ]
    },
    {
      "cell_type": "code",
      "execution_count": 7,
      "metadata": {
        "colab": {
          "base_uri": "https://localhost:8080/"
        },
        "id": "nMAyBv1Jlf6B",
        "outputId": "11f35c8e-3ec1-425e-f0f7-6c360df67195"
      },
      "outputs": [
        {
          "name": "stdout",
          "output_type": "stream",
          "text": [
            "ID         int64\n",
            "x-inv    float64\n",
            "y-inv    float64\n",
            "force    float64\n",
            "dtype: object\n"
          ]
        }
      ],
      "source": [
        "print(main_df.dtypes)"
      ]
    },
    {
      "cell_type": "markdown",
      "metadata": {
        "id": "NjAsxQI8bOK7"
      },
      "source": []
    },
    {
      "cell_type": "markdown",
      "metadata": {
        "id": "wrWBl3zUbPmn"
      },
      "source": [
        "## Check for skewed data"
      ]
    },
    {
      "cell_type": "code",
      "execution_count": 8,
      "metadata": {
        "colab": {
          "base_uri": "https://localhost:8080/",
          "height": 278
        },
        "id": "UCuPDXFSbTjo",
        "outputId": "82a6ed03-4272-4ea1-b972-8ee71ac822d1"
      },
      "outputs": [
        {
          "data": {
            "image/png": "[encoded data removed]",
            "text/plain": [
              "<Figure size 432x288 with 1 Axes>"
            ]
          },
          "metadata": {
            "needs_background": "light"
          },
          "output_type": "display_data"
        }
      ],
      "source": [
        "sns.histplot(main_df['x-inv'], bins = 50, kde=True, line_kws={\"color\":\"red\"})\n",
        "plt.show()"
      ]
    },
    {
      "cell_type": "code",
      "execution_count": 9,
      "metadata": {
        "colab": {
          "base_uri": "https://localhost:8080/",
          "height": 278
        },
        "id": "J5wqY9NkckNy",
        "outputId": "1cb76918-cdc6-4656-8f55-2f14b02ef937"
      },
      "outputs": [
        {
          "data": {
            "image/png": "[encoded data removed]",
            "text/plain": [
              "<Figure size 432x288 with 1 Axes>"
            ]
          },
          "metadata": {
            "needs_background": "light"
          },
          "output_type": "display_data"
        }
      ],
      "source": [
        "sns.histplot(main_df['y-inv'], bins = 50, kde=True, line_kws={\"color\":\"red\"})\n",
        "plt.show()"
      ]
    },
    {
      "cell_type": "markdown",
      "metadata": {
        "id": "ETaQdd6UisPz"
      },
      "source": [
        "None of the features are skewed\n",
        "\n",
        "## Check for outliers"
      ]
    },
    {
      "cell_type": "code",
      "execution_count": 10,
      "metadata": {
        "colab": {
          "base_uri": "https://localhost:8080/",
          "height": 278
        },
        "id": "uV77wq4xiyg6",
        "outputId": "63e08a5f-d25a-4c7a-9b6a-e74db1f5aadf"
      },
      "outputs": [
        {
          "data": {
            "image/png": "[encoded data removed]",
            "text/plain": [
              "<Figure size 432x288 with 1 Axes>"
            ]
          },
          "metadata": {
            "needs_background": "light"
          },
          "output_type": "display_data"
        }
      ],
      "source": [
        "sns.boxplot(x=main_df['x-inv'])\n",
        "plt.show()"
      ]
    },
    {
      "cell_type": "code",
      "execution_count": 11,
      "metadata": {
        "colab": {
          "base_uri": "https://localhost:8080/",
          "height": 278
        },
        "id": "nHBVfKzfjELG",
        "outputId": "d3b979e8-f605-462f-b9c8-3f579205d898"
      },
      "outputs": [
        {
          "data": {
            "image/png": "[encoded data removed]",
            "text/plain": [
              "<Figure size 432x288 with 1 Axes>"
            ]
          },
          "metadata": {
            "needs_background": "light"
          },
          "output_type": "display_data"
        }
      ],
      "source": [
        "sns.boxplot(x=main_df['y-inv'])\n",
        "plt.show()"
      ]
    },
    {
      "cell_type": "markdown",
      "metadata": {
        "id": "HcDQo-AmjgyJ"
      },
      "source": [
        "## Check for correlation"
      ]
    },
    {
      "cell_type": "code",
      "execution_count": 12,
      "metadata": {
        "colab": {
          "base_uri": "https://localhost:8080/",
          "height": 268
        },
        "id": "6NFekILijws8",
        "outputId": "77f549d6-78aa-42ee-b169-ea3a8fdf38e1"
      },
      "outputs": [
        {
          "data": {
            "image/png": "[encoded data removed]",
            "text/plain": [
              "<Figure size 432x288 with 2 Axes>"
            ]
          },
          "metadata": {
            "needs_background": "light"
          },
          "output_type": "display_data"
        }
      ],
      "source": [
        "main_df_continuous = main_df.drop(columns=['ID','force'])\n",
        "main_df_continuous.corr()\n",
        "sns.heatmap(main_df_continuous.corr(), vmin=-1, cmap=\"coolwarm\", annot=True)\n",
        "plt.show()"
      ]
    },
    {
      "cell_type": "markdown",
      "metadata": {
        "id": "UH9pgBNolHQU"
      },
      "source": [
        "Logically, we'd expect relative x-distance and relative y-distance to be independent and so should be their inverses (x-inv and y-inv). \n",
        "\n",
        "The above correlation hotmap also emphasizes that x-inv and y-inv con be considered independent columns"
      ]
    },
    {
      "cell_type": "markdown",
      "metadata": {
        "id": "9JZzYZdEtgau"
      },
      "source": [
        "## Categorical features\n",
        "\n",
        "There are no categorical features present. \"ID\" is used only for identification and won't be used as a feature."
      ]
    },
    {
      "cell_type": "markdown",
      "metadata": {
        "id": "1R0C-C8ufIl0"
      },
      "source": [
        "## Feature normalization"
      ]
    },
    {
      "cell_type": "code",
      "execution_count": 13,
      "metadata": {
        "colab": {
          "base_uri": "https://localhost:8080/"
        },
        "id": "wnyOFOf4fUHd",
        "outputId": "4b70c5fb-c76e-4321-a518-3fddde7e1881"
      },
      "outputs": [
        {
          "name": "stdout",
          "output_type": "stream",
          "text": [
            "   ID     x-inv     y-inv       force\n",
            "0   0 -1.397766 -1.730320  117.616636\n",
            "1   1  1.255737 -1.726856  132.928749\n",
            "2   2  0.732658 -1.723391  114.418568\n",
            "3   3  1.314627 -1.719927  130.401770\n",
            "4   4 -0.008660 -1.716463  123.536669\n"
          ]
        }
      ],
      "source": [
        "from sklearn.preprocessing import StandardScaler\n",
        "\n",
        "scaler = StandardScaler()\n",
        "\n",
        "main_df[['x-inv','y-inv']] = scaler.fit_transform(main_df[['x-inv','y-inv']]) \n",
        "print(main_df.head())"
      ]
    },
    {
      "cell_type": "markdown",
      "metadata": {
        "id": "xQxhiNdHpyc1"
      },
      "source": [
        "## Scatterplot of 'force' vs x-inv"
      ]
    },
    {
      "cell_type": "code",
      "execution_count": 14,
      "metadata": {
        "colab": {
          "base_uri": "https://localhost:8080/",
          "height": 267
        },
        "id": "DWR58NLFqLYl",
        "outputId": "edc11e6a-011a-4e7a-ec5e-17b3c0881f7d"
      },
      "outputs": [
        {
          "data": {
            "image/png": "[encoded data removed]",
            "text/plain": [
              "<Figure size 432x288 with 1 Axes>"
            ]
          },
          "metadata": {
            "needs_background": "light"
          },
          "output_type": "display_data"
        }
      ],
      "source": [
        "plt.scatter(main_df['x-inv'],main_df['force'])\n",
        "plt.show()"
      ]
    },
    {
      "cell_type": "markdown",
      "metadata": {
        "id": "t9tW4GaNq5eA"
      },
      "source": [
        "## scatterplot of 'force' vs 'y-inv'"
      ]
    },
    {
      "cell_type": "code",
      "execution_count": 15,
      "metadata": {
        "colab": {
          "base_uri": "https://localhost:8080/",
          "height": 267
        },
        "id": "M4M5XIgGqyFH",
        "outputId": "a020eb64-e94a-4902-c3ab-669eb52f0dda"
      },
      "outputs": [
        {
          "data": {
            "image/png": "[encoded data removed]",
            "text/plain": [
              "<Figure size 432x288 with 1 Axes>"
            ]
          },
          "metadata": {
            "needs_background": "light"
          },
          "output_type": "display_data"
        }
      ],
      "source": [
        "plt.scatter(main_df['y-inv'],main_df['force'])\n",
        "plt.show()"
      ]
    },
    {
      "cell_type": "markdown",
      "metadata": {
        "id": "C0BTHE9NrRvw"
      },
      "source": [
        "We can conclude from the above scatter plots that a simple linear model won't do. We will have to use polynomial regression to handle these features. \n",
        "\n",
        "Moreover, we can see that y-inv would nicely fit a 2 degree model whereas x-inv will be needing more meticulous dealing.\n",
        "\n",
        "Now that we're done with all the preprocessing, we can move on to model generation."
      ]
    },
    {
      "cell_type": "markdown",
      "metadata": {
        "id": "IMDrw5pvsiYW"
      },
      "source": [
        "# Model generation\n",
        "\n",
        "## train_test_split_data"
      ]
    },
    {
      "cell_type": "markdown",
      "metadata": {
        "id": "vgcS9T0r-UmR"
      },
      "source": [
        "## Polynomial regression"
      ]
    },
    {
      "cell_type": "code",
      "execution_count": 16,
      "metadata": {
        "id": "miupRDfsr6Ko"
      },
      "outputs": [],
      "source": [
        "from sklearn.model_selection import train_test_split \n",
        "\n",
        "X = main_df.drop(axis=\"columns\",labels=['ID','force']).to_numpy().astype(np.float64)\n",
        "Y = main_df['force'].to_numpy().astype(np.float64)\n",
        "\n",
        "train_X, test_X, train_y, test_y = train_test_split(X, Y, train_size=0.6)\n",
        "\n",
        "if train_X.ndim==1:\n",
        "  train_X = train_X.reshape(-1,1)\n",
        "  test_X = test_X.reshape(-1,1)"
      ]
    },
    {
      "cell_type": "markdown",
      "metadata": {
        "id": "0Vv0nt0ZE_NX"
      },
      "source": [
        "## Check for for various polynomial degrees"
      ]
    },
    {
      "cell_type": "code",
      "execution_count": 17,
      "metadata": {
        "colab": {
          "base_uri": "https://localhost:8080/"
        },
        "id": "-2JrYHAA-e8b",
        "outputId": "ba3226c5-c347-4ed6-9668-d7d00b853f5f"
      },
      "outputs": [
        {
          "name": "stdout",
          "output_type": "stream",
          "text": [
            "\n",
            " Train error =  8.248561851141504\n",
            "Test error =  11.197728925633013\n",
            "lambda =  0.003399999999999998\n",
            "degree =  9\n"
          ]
        }
      ],
      "source": [
        "from sklearn.metrics import mean_squared_error, mean_absolute_error\n",
        "\n",
        "i = 2\n",
        "count = 0\n",
        "\n",
        "temp_train_error = temp_test_error = 10000000\n",
        "train_error = test_error = 1000000\n",
        "poly_degree = reg_lambda = 2\n",
        "\n",
        "while count < 1500:\n",
        "  POLY_DEGREE = i\n",
        "  feature_generator = preprocessing.PolynomialFeatures(degree=POLY_DEGREE)\n",
        "  train_X_final = feature_generator.fit_transform(train_X)\n",
        "  test_X_final = feature_generator.fit_transform(test_X)\n",
        "  \n",
        "  REG_LAMBDA = 0\n",
        "  \n",
        "  # print(i)\n",
        "  \n",
        "  while REG_LAMBDA < 0.02:\n",
        "    # model = linear_model.Lasso(alpha=REG_LAMBDA, max_iter=20000)\n",
        "\n",
        "    model = linear_model.Ridge(alpha=REG_LAMBDA)\n",
        "\n",
        "    model.fit(train_X_final, train_y)\n",
        "    \n",
        "    train_yhat = model.predict(train_X_final)\n",
        "    test_yhat = model.predict(test_X_final)\n",
        "\n",
        "    temp_train_error = mean_squared_error(train_y, train_yhat)\n",
        "    temp_test_error = mean_squared_error(test_y, test_yhat)\n",
        "\n",
        "    if temp_test_error < test_error:\n",
        "      if temp_train_error<=train_error or train_error-temp_train_error < 5:\n",
        "        test_error = temp_test_error\n",
        "        train_error = temp_train_error\n",
        "        poly_degree = POLY_DEGREE\n",
        "        reg_lambda = REG_LAMBDA\n",
        "        # print(test_yhat)\n",
        "\n",
        "    count+=1\n",
        "    REG_LAMBDA+=0.0001\n",
        "\n",
        "  i+=1\n",
        "\n",
        "print(\"\\n\",\"Train error = \", train_error)\n",
        "print(\"Test error = \", test_error)\n",
        "print(\"lambda = \", reg_lambda)\n",
        "print(\"degree = \", poly_degree)\n"
      ]
    },
    {
      "cell_type": "markdown",
      "metadata": {
        "id": "c1wLnSfriCWT"
      },
      "source": [
        "## Feature normalization for test.csv"
      ]
    },
    {
      "cell_type": "code",
      "execution_count": 18,
      "metadata": {
        "colab": {
          "base_uri": "https://localhost:8080/"
        },
        "id": "pXAebU5aZkLK",
        "outputId": "da610411-9ff8-4a67-cbf8-63abb4759282"
      },
      "outputs": [
        {
          "name": "stdout",
          "output_type": "stream",
          "text": [
            "   ID      x-inv      y-inv\n",
            "0   0  -8.889889 -50.000000\n",
            "1   1 -28.355836 -49.989999\n",
            "2   2  15.682568 -49.979998\n",
            "3   3 -19.858986 -49.969997\n",
            "4   4 -22.445245 -49.959996\n",
            "   ID     x-inv     y-inv\n",
            "0   0 -0.513207 -1.731878\n",
            "1   1 -1.636961 -1.731531\n",
            "2   2  0.905343 -1.731185\n",
            "3   3 -1.146444 -1.730838\n",
            "4   4 -1.295747 -1.730492\n"
          ]
        }
      ],
      "source": [
        "print(test_df.head())\n",
        "test_df[['x-inv','y-inv']] = scaler.fit_transform(test_df[['x-inv','y-inv']])\n",
        "print(test_df.head())"
      ]
    },
    {
      "cell_type": "code",
      "execution_count": 19,
      "metadata": {
        "id": "-S8a7814aaEB"
      },
      "outputs": [],
      "source": [
        "test_X = test_df.drop(axis=\"columns\",labels=['ID']).to_numpy().astype(np.float64)\n",
        "\n",
        "feature_generator = preprocessing.PolynomialFeatures(degree=poly_degree)\n",
        "X_final = feature_generator.fit_transform(X)\n",
        "test_X_final = feature_generator.fit_transform(test_X)\n",
        "\n",
        "model = linear_model.Ridge(alpha=reg_lambda)\n",
        "model.fit(X_final, Y)\n",
        "\n",
        "test_yhat = model.predict(test_X_final)"
      ]
    },
    {
      "cell_type": "code",
      "execution_count": 20,
      "metadata": {
        "colab": {
          "base_uri": "https://localhost:8080/"
        },
        "id": "NTjAYuOki1AE",
        "outputId": "fc5cac6f-4c10-40af-c2f1-4202ed6275ad"
      },
      "outputs": [
        {
          "name": "stdout",
          "output_type": "stream",
          "text": [
            "           force\n",
            "0     122.049376\n",
            "1     121.815957\n",
            "2     113.269280\n",
            "3     127.933454\n",
            "4     118.885884\n",
            "...          ...\n",
            "9995  129.104611\n",
            "9996  114.570063\n",
            "9997  126.845668\n",
            "9998  129.879195\n",
            "9999  114.212293\n",
            "\n",
            "[10000 rows x 1 columns]\n"
          ]
        }
      ],
      "source": [
        "y_pred_df = pd.DataFrame(data=test_yhat, columns = [\"force\"])\n",
        "print(y_pred_df)\n",
        "\n",
        "submission_df = pd.concat([test_df[\"ID\"], y_pred_df[\"force\"]], axis=1, join='inner')\n",
        "submission_df.to_csv(\"submission.csv\", index = False)"
      ]
    }
  ],
  "metadata": {
    "colab": {
      "collapsed_sections": [],
      "name": "ML_hackathon_regression.ipynb",
      "provenance": []
    },
    "interpreter": {
      "hash": "31f2aee4e71d21fbe5cf8b01ff0e069b9275f58929596ceb00d14d90e3e16cd6"
    },
    "kernelspec": {
      "display_name": "Python 3.8.10 64-bit",
      "name": "python3"
    },
    "language_info": {
      "codemirror_mode": {
        "name": "ipython",
        "version": 3
      },
      "file_extension": ".py",
      "mimetype": "text/x-python",
      "name": "python",
      "nbconvert_exporter": "python",
      "pygments_lexer": "ipython3",
      "version": "3.8.10"
    }
  },
  "nbformat": 4,
  "nbformat_minor": 0
}
