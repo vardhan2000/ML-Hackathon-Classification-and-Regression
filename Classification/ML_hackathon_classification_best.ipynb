{
  "cells": [
    {
      "cell_type": "markdown",
      "metadata": {
        "id": "8u9aGY2hDi0O"
      },
      "source": [
        "## import, read and introduction"
      ]
    },
    {
      "cell_type": "code",
      "execution_count": 3,
      "metadata": {
        "id": "xcoqHeGxAipI"
      },
      "outputs": [],
      "source": [
        "import numpy as np \n",
        "import pandas as pd\n",
        "import matplotlib.pyplot as plt\n",
        "import random"
      ]
    },
    {
      "cell_type": "markdown",
      "metadata": {
        "id": "drFbpFiIFOa-"
      },
      "source": [
        "### Read train and test data files"
      ]
    },
    {
      "cell_type": "code",
      "execution_count": 4,
      "metadata": {
        "id": "GmEq897yFYSH"
      },
      "outputs": [],
      "source": [
        "df = pd.read_csv(\"train.csv\")\n",
        "test_df = pd.read_csv(\"test.csv\")"
      ]
    },
    {
      "cell_type": "code",
      "execution_count": 5,
      "metadata": {
        "id": "IkXEX6CcT-u0"
      },
      "outputs": [
        {
          "data": {
            "text/plain": [
              "(297606, 59)"
            ]
          },
          "execution_count": 5,
          "metadata": {},
          "output_type": "execute_result"
        }
      ],
      "source": [
        "df.shape"
      ]
    },
    {
      "cell_type": "markdown",
      "metadata": {
        "id": "K02b9PKa3nDc"
      },
      "source": [
        "## Preprocessing"
      ]
    },
    {
      "cell_type": "markdown",
      "metadata": {
        "id": "Gy2vmQAPGSce"
      },
      "source": [
        "### Check for missing values"
      ]
    },
    {
      "cell_type": "code",
      "execution_count": 6,
      "metadata": {
        "id": "j_hG5T4IUIPB"
      },
      "outputs": [
        {
          "data": {
            "text/plain": [
              "id                       0\n",
              "CARTYPE_07_CAT        5727\n",
              "METRIC_18_BIN            0\n",
              "METRIC_04                0\n",
              "CONDITION_11_BIN         0\n",
              "REGISTRATION_03      53709\n",
              "CONDITION_05_CAT      2891\n",
              "CARTYPE_15               0\n",
              "METRIC_09                0\n",
              "METRIC_01                0\n",
              "REGISTRATION_01          0\n",
              "CONDITION_14             0\n",
              "METRIC_12                0\n",
              "METRIC_08                0\n",
              "METRIC_06                0\n",
              "CONDITION_02_CAT       104\n",
              "METRIC_10                0\n",
              "CARTYPE_10_CAT           0\n",
              "CONDITION_09_BIN         0\n",
              "CARTYPE_03_CAT      205287\n",
              "target                   0\n",
              "CARTYPE_09_CAT         282\n",
              "CARTYPE_11               2\n",
              "CARTYPE_01_CAT          57\n",
              "CONDITION_13_BIN         0\n",
              "METRIC_11                0\n",
              "METRIC_14                0\n",
              "METRIC_17_BIN            0\n",
              "CARTYPE_13               0\n",
              "CARTYPE_06_CAT           0\n",
              "METRIC_15_BIN            0\n",
              "CONDITION_03             0\n",
              "METRIC_20_BIN            0\n",
              "METRIC_07                0\n",
              "CARTYPE_02_CAT           2\n",
              "CONDITION_01             0\n",
              "CONDITION_18_BIN         0\n",
              "CONDITION_16_BIN         0\n",
              "CONDITION_07_BIN         0\n",
              "CONDITION_17_BIN         0\n",
              "CARTYPE_11_CAT           0\n",
              "CONDITION_10_BIN         0\n",
              "REGISTRATION_02          0\n",
              "METRIC_16_BIN            0\n",
              "CONDITION_15             0\n",
              "METRIC_03                0\n",
              "METRIC_05                0\n",
              "METRIC_19_BIN            0\n",
              "CARTYPE_12               1\n",
              "CARTYPE_14           21400\n",
              "CARTYPE_08_CAT           0\n",
              "CONDITION_12_BIN         0\n",
              "CONDITION_06_BIN         0\n",
              "METRIC_02                0\n",
              "CARTYPE_04_CAT           0\n",
              "METRIC_13                0\n",
              "CONDITION_04_CAT        42\n",
              "CONDITION_08_BIN         0\n",
              "CARTYPE_05_CAT      133017\n",
              "dtype: int64"
            ]
          },
          "execution_count": 6,
          "metadata": {},
          "output_type": "execute_result"
        }
      ],
      "source": [
        "df.isnull().sum()"
      ]
    },
    {
      "cell_type": "markdown",
      "metadata": {
        "id": "OL3tyMbaWsd0"
      },
      "source": [
        "### Droping columns with more than 20000 null values"
      ]
    },
    {
      "cell_type": "code",
      "execution_count": 7,
      "metadata": {
        "id": "fvv9M0esVg2S"
      },
      "outputs": [],
      "source": [
        "df.drop(['REGISTRATION_03','CARTYPE_05_CAT','CARTYPE_14','CARTYPE_03_CAT'],axis=1,inplace=True)"
      ]
    },
    {
      "cell_type": "code",
      "execution_count": 8,
      "metadata": {
        "id": "sgRTxHOAVu5Z"
      },
      "outputs": [
        {
          "data": {
            "text/plain": [
              "id                     0\n",
              "CARTYPE_07_CAT      5727\n",
              "METRIC_18_BIN          0\n",
              "METRIC_04              0\n",
              "CONDITION_11_BIN       0\n",
              "CONDITION_05_CAT    2891\n",
              "CARTYPE_15             0\n",
              "METRIC_09              0\n",
              "METRIC_01              0\n",
              "REGISTRATION_01        0\n",
              "CONDITION_14           0\n",
              "METRIC_12              0\n",
              "METRIC_08              0\n",
              "METRIC_06              0\n",
              "CONDITION_02_CAT     104\n",
              "METRIC_10              0\n",
              "CARTYPE_10_CAT         0\n",
              "CONDITION_09_BIN       0\n",
              "target                 0\n",
              "CARTYPE_09_CAT       282\n",
              "CARTYPE_11             2\n",
              "CARTYPE_01_CAT        57\n",
              "CONDITION_13_BIN       0\n",
              "METRIC_11              0\n",
              "METRIC_14              0\n",
              "METRIC_17_BIN          0\n",
              "CARTYPE_13             0\n",
              "CARTYPE_06_CAT         0\n",
              "METRIC_15_BIN          0\n",
              "CONDITION_03           0\n",
              "METRIC_20_BIN          0\n",
              "METRIC_07              0\n",
              "CARTYPE_02_CAT         2\n",
              "CONDITION_01           0\n",
              "CONDITION_18_BIN       0\n",
              "CONDITION_16_BIN       0\n",
              "CONDITION_07_BIN       0\n",
              "CONDITION_17_BIN       0\n",
              "CARTYPE_11_CAT         0\n",
              "CONDITION_10_BIN       0\n",
              "REGISTRATION_02        0\n",
              "METRIC_16_BIN          0\n",
              "CONDITION_15           0\n",
              "METRIC_03              0\n",
              "METRIC_05              0\n",
              "METRIC_19_BIN          0\n",
              "CARTYPE_12             1\n",
              "CARTYPE_08_CAT         0\n",
              "CONDITION_12_BIN       0\n",
              "CONDITION_06_BIN       0\n",
              "METRIC_02              0\n",
              "CARTYPE_04_CAT         0\n",
              "METRIC_13              0\n",
              "CONDITION_04_CAT      42\n",
              "CONDITION_08_BIN       0\n",
              "dtype: int64"
            ]
          },
          "execution_count": 8,
          "metadata": {},
          "output_type": "execute_result"
        }
      ],
      "source": [
        "df.isnull().sum()"
      ]
    },
    {
      "cell_type": "markdown",
      "metadata": {
        "id": "Dl2CKt8NHmg2"
      },
      "source": [
        "### Dropping the unique identification column"
      ]
    },
    {
      "cell_type": "code",
      "execution_count": 9,
      "metadata": {
        "id": "bab0JUQ-XK-q"
      },
      "outputs": [],
      "source": [
        "df = df.drop(['id'],axis=1) # removing id from the data of computation as it is not related to prediction"
      ]
    },
    {
      "cell_type": "markdown",
      "metadata": {
        "id": "XZsxBrPpH3IH"
      },
      "source": [
        "### Dropping rows with na values"
      ]
    },
    {
      "cell_type": "code",
      "execution_count": 10,
      "metadata": {
        "id": "NhRIv8MIY0cS"
      },
      "outputs": [],
      "source": [
        "# df = df.dropna()\n",
        "df=df.fillna(method='ffill')"
      ]
    },
    {
      "cell_type": "code",
      "execution_count": 11,
      "metadata": {
        "id": "BtSS_KE8ZR_s"
      },
      "outputs": [],
      "source": [
        "for i in list(df.isnull().sum()):\n",
        " if(i != 0):\n",
        "   print(\"problem\")"
      ]
    },
    {
      "cell_type": "markdown",
      "metadata": {
        "id": "pU5kMunvIUtS"
      },
      "source": [
        "### Check for question marks"
      ]
    },
    {
      "cell_type": "code",
      "execution_count": 12,
      "metadata": {
        "id": "R3sdwkORFIRf"
      },
      "outputs": [],
      "source": [
        "question_marks = list((df == \"?\").sum())\n",
        "for i in question_marks:\n",
        "  if i !=0 :\n",
        "    print(\"problem\")"
      ]
    },
    {
      "cell_type": "markdown",
      "metadata": {
        "id": "o0Hq3B0sI18i"
      },
      "source": [
        "### Check for duplicated rows"
      ]
    },
    {
      "cell_type": "code",
      "execution_count": 13,
      "metadata": {
        "id": "Vso2vuDAJC7u"
      },
      "outputs": [
        {
          "data": {
            "text/plain": [
              "0"
            ]
          },
          "execution_count": 13,
          "metadata": {},
          "output_type": "execute_result"
        }
      ],
      "source": [
        "df.duplicated().sum()"
      ]
    },
    {
      "cell_type": "markdown",
      "metadata": {
        "id": "4faykqubJYuq"
      },
      "source": [
        "There are no duplicate rows."
      ]
    },
    {
      "cell_type": "markdown",
      "metadata": {
        "id": "qRF1JboLJchz"
      },
      "source": [
        "### Categorical features"
      ]
    },
    {
      "cell_type": "code",
      "execution_count": 14,
      "metadata": {
        "id": "sXuaVfc0J01K"
      },
      "outputs": [
        {
          "data": {
            "text/plain": [
              "CARTYPE_07_CAT          2\n",
              "METRIC_18_BIN           2\n",
              "METRIC_04               6\n",
              "CONDITION_11_BIN        2\n",
              "CONDITION_05_CAT        7\n",
              "CARTYPE_15             15\n",
              "METRIC_09               8\n",
              "METRIC_01              10\n",
              "REGISTRATION_01        10\n",
              "CONDITION_14            5\n",
              "METRIC_12              11\n",
              "METRIC_08              11\n",
              "METRIC_06              10\n",
              "CONDITION_02_CAT        4\n",
              "METRIC_10              26\n",
              "CARTYPE_10_CAT          3\n",
              "CONDITION_09_BIN        2\n",
              "target                  2\n",
              "CARTYPE_09_CAT          5\n",
              "CARTYPE_11              4\n",
              "CARTYPE_01_CAT         12\n",
              "CONDITION_13_BIN        2\n",
              "METRIC_11              19\n",
              "METRIC_14              23\n",
              "METRIC_17_BIN           2\n",
              "CARTYPE_13          52532\n",
              "CARTYPE_06_CAT         18\n",
              "METRIC_15_BIN           2\n",
              "CONDITION_03           12\n",
              "METRIC_20_BIN           2\n",
              "METRIC_07              10\n",
              "CARTYPE_02_CAT          2\n",
              "CONDITION_01            8\n",
              "CONDITION_18_BIN        2\n",
              "CONDITION_16_BIN        2\n",
              "CONDITION_07_BIN        2\n",
              "CONDITION_17_BIN        2\n",
              "CARTYPE_11_CAT        104\n",
              "CONDITION_10_BIN        2\n",
              "REGISTRATION_02        19\n",
              "METRIC_16_BIN           2\n",
              "CONDITION_15           14\n",
              "METRIC_03              10\n",
              "METRIC_05               7\n",
              "METRIC_19_BIN           2\n",
              "CARTYPE_12            172\n",
              "CARTYPE_08_CAT          2\n",
              "CONDITION_12_BIN        2\n",
              "CONDITION_06_BIN        2\n",
              "METRIC_02              10\n",
              "CARTYPE_04_CAT         10\n",
              "METRIC_13              14\n",
              "CONDITION_04_CAT        2\n",
              "CONDITION_08_BIN        2\n",
              "dtype: int64"
            ]
          },
          "execution_count": 14,
          "metadata": {},
          "output_type": "execute_result"
        }
      ],
      "source": [
        "df.nunique()\n"
      ]
    },
    {
      "cell_type": "markdown",
      "metadata": {
        "id": "OKWTmVas4D2z"
      },
      "source": [
        "### Encoding"
      ]
    },
    {
      "cell_type": "code",
      "execution_count": 15,
      "metadata": {
        "id": "KjA-y6f_AgsM"
      },
      "outputs": [],
      "source": [
        "# new_column = pd.cut(df.CARTYPE_13,bins=[0,4.3921793760000005,5.0899999192,5.5847490088,5.9634146304,6.3249734592,6.6978225152,7.0661572663999985,7.4562481424,7.8857293432,8.423108709600001,9.181728172,10.4332589616,100],labels=[0,1,2,3,4,5,6,7,8,9,10,11,12])\n",
        "# new_column.rename({'CARTYPE_13': 'CARTYPE_13_modified'}, inplace=True)\n",
        "# df = pd.concat([df,new_column], axis=1, join='inner')\n",
        "# df.head()"
      ]
    },
    {
      "cell_type": "code",
      "execution_count": 16,
      "metadata": {
        "id": "_HcjPL_O1umE"
      },
      "outputs": [],
      "source": [
        "df.drop(['METRIC_06','METRIC_11','METRIC_14','METRIC_10','CARTYPE_12'],axis=1,inplace=True)\n",
        "\n",
        "# sus = ['CONDITION_12_BIN','CARTYPE_12','CONDITION_10_BIN','CARTYPE_11_CAT','CONDITION_13_BIN','CARTYPE_10_CAT','CONDITION_14','CONDITION_11_BIN']\n",
        "# df.drop(sus,axis=1,inplace=True)"
      ]
    },
    {
      "cell_type": "code",
      "execution_count": 17,
      "metadata": {
        "id": "KWdrH92N4Nhx"
      },
      "outputs": [],
      "source": [
        "# column_names_to_one_hot = list(df.columns).remove('target')\n",
        "# column_names_to_one_hot = column_names_to_one_hot.remove('CARTYPE_13')\n",
        "# print(column_names_to_one_hot)\n",
        "\n",
        "for i in df.columns:\n",
        "    if i ==\"CARTYPE_13\":\n",
        "        continue\n",
        "    elif i ==\"target\":\n",
        "        continue\n",
        "    else:\n",
        "        df[i] = df[i].astype('object')\n",
        "\n",
        "ctype13=df[\"CARTYPE_13\"]\n",
        "final_X_test = pd.get_dummies(data=df.drop(['CARTYPE_13'],axis=1))\n",
        "final_X_test[\"CARTYPE_13\"] = ctype13\n",
        "\n",
        "# df = pd.get_dummies(df, columns=column_names_to_one_hot)\n",
        "c = final_X_test.columns"
      ]
    },
    {
      "cell_type": "markdown",
      "metadata": {
        "id": "K58eAl0SM2uq"
      },
      "source": [
        "## Model generation"
      ]
    },
    {
      "cell_type": "markdown",
      "metadata": {
        "id": "14K41R3sNM9i"
      },
      "source": [
        "### train_test_split_data"
      ]
    },
    {
      "cell_type": "code",
      "execution_count": 18,
      "metadata": {
        "id": "0y6kkQGpNQMs"
      },
      "outputs": [],
      "source": [
        "# test_X = df.drop(axis=\"columns\",labels=[\"target\"]).to_numpy().astype(np.float64)\n",
        "# test_y = df['target'].to_numpy().astype(np.float64)\n",
        "\n",
        "df = final_X_test\n",
        "\n",
        "test_X = df.drop(axis=\"columns\",labels=[\"target\"]).to_numpy().astype(np.float64)\n",
        "test_y = df['target'].to_numpy().astype(np.float64)\n",
        "\n",
        "# test_X = final_X_test.to_numpy().astype(np.float64)\n",
        "# test_y = y.to_numpy().astype(np.float64)\n",
        "\n",
        "df['target'].value_counts()\n",
        "idxes = df[df['target']==0].index\n",
        "idxes = idxes[:245000]\n",
        "df = df.drop(idxes)\n",
        "df['target'].value_counts()\n",
        "\n",
        "X = df.drop(axis=\"columns\",labels=[\"target\"]).to_numpy().astype(np.float64)\n",
        "Y = df['target'].to_numpy().astype(np.float64)\n",
        "\n",
        "shuffler = np.random.permutation(len(X))\n",
        "train_X = X[shuffler]\n",
        "train_y = Y[shuffler]"
      ]
    },
    {
      "cell_type": "markdown",
      "metadata": {
        "id": "WXQ53mCtM8lB"
      },
      "source": [
        "### Logistic regression"
      ]
    },
    {
      "cell_type": "code",
      "execution_count": 19,
      "metadata": {
        "id": "ZiBQYYf4NCsW"
      },
      "outputs": [
        {
          "data": {
            "text/plain": [
              "LogisticRegression(solver='liblinear')"
            ]
          },
          "execution_count": 19,
          "metadata": {},
          "output_type": "execute_result"
        }
      ],
      "source": [
        "from sklearn.linear_model import LogisticRegression \n",
        "from sklearn.metrics import accuracy_score, f1_score, roc_auc_score\n",
        "\n",
        "lreg = LogisticRegression(solver='liblinear')\n",
        "lreg.fit(train_X,train_y)"
      ]
    },
    {
      "cell_type": "markdown",
      "metadata": {
        "id": "kxRsbKFtjV7H"
      },
      "source": [
        "### testing"
      ]
    },
    {
      "cell_type": "code",
      "execution_count": 20,
      "metadata": {
        "id": "8NFz2pOJVQwv"
      },
      "outputs": [
        {
          "name": "stdout",
          "output_type": "stream",
          "text": [
            "training score =  0.6479353724121165\n",
            "test score =  0.6454385513372383\n"
          ]
        }
      ],
      "source": [
        "train_yhat = lreg.predict_proba(train_X)\n",
        "test_yhat = lreg.predict_proba(test_X)\n",
        "\n",
        "print(\"training score = \", roc_auc_score(train_y, train_yhat[:,1]))\n",
        "print(\"test score = \", roc_auc_score(test_y,test_yhat[:,1]))\n"
      ]
    },
    {
      "cell_type": "code",
      "execution_count": 21,
      "metadata": {
        "id": "7MSMVYNTWwdz"
      },
      "outputs": [],
      "source": [
        "test_df=test_df.fillna(method='ffill')\n",
        "test_df.drop(['REGISTRATION_03','CARTYPE_05_CAT','CARTYPE_14','CARTYPE_03_CAT'],axis=1,inplace=True)\n",
        "# sus = ['CONDITION_12_BIN','CARTYPE_12','CONDITION_10_BIN','CARTYPE_11_CAT','CONDITION_13_BIN','CARTYPE_10_CAT','CONDITION_14','CONDITION_11_BIN']\n",
        "# test_df.drop(sus,axis=1,inplace=True)"
      ]
    },
    {
      "cell_type": "code",
      "execution_count": 22,
      "metadata": {
        "id": "-NwE1Jv3ODb8"
      },
      "outputs": [],
      "source": [
        "# new_column = pd.cut(test_df.CARTYPE_13,bins=[0,4.3921793760000005,5.0899999192,5.5847490088,5.9634146304,6.3249734592,6.6978225152,7.0661572663999985,7.4562481424,7.8857293432,8.423108709600001,9.181728172,10.4332589616,100],labels=[0,1,2,3,4,5,6,7,8,9,10,11,12])\n",
        "# new_column.rename({'CARTYPE_13': 'CARTYPE_13_modified'}, inplace=True)\n",
        "# test_df = pd.concat([test_df,new_column], axis=1, join='inner')\n",
        "# test_df.head()"
      ]
    },
    {
      "cell_type": "code",
      "execution_count": 23,
      "metadata": {
        "id": "58akPQoL_tpY"
      },
      "outputs": [],
      "source": [
        "test_df.drop(['METRIC_06','METRIC_11','METRIC_14','METRIC_10','CARTYPE_12'],axis=1,inplace=True)"
      ]
    },
    {
      "cell_type": "code",
      "execution_count": 24,
      "metadata": {
        "id": "Wr2_Cn_72B0J"
      },
      "outputs": [],
      "source": [
        "l = list(test_df.columns.values).remove(\"id\")"
      ]
    },
    {
      "cell_type": "code",
      "execution_count": 25,
      "metadata": {},
      "outputs": [],
      "source": [
        "for i in test_df.columns:\n",
        "    if i ==\"CARTYPE_13\":\n",
        "        continue\n",
        "    elif i ==\"id\":\n",
        "        continue\n",
        "    else:\n",
        "        test_df[i] = test_df[i].astype('object')\n",
        "\n",
        "ctype13=test_df[\"CARTYPE_13\"]\n",
        "ID_valid=test_df[\"id\"]\n",
        "final_X_test = pd.get_dummies(data=test_df.drop(['CARTYPE_13','id'],axis=1))\n",
        "final_X_test[\"CARTYPE_13\"] = ctype13\n",
        "final_X_test[\"id\"] = ID_valid\n"
      ]
    },
    {
      "cell_type": "code",
      "execution_count": 26,
      "metadata": {
        "id": "6zT0V_7P36QK"
      },
      "outputs": [
        {
          "data": {
            "text/plain": [
              "id                  0\n",
              "CARTYPE_07_CAT      0\n",
              "METRIC_18_BIN       0\n",
              "METRIC_04           0\n",
              "CONDITION_11_BIN    0\n",
              "CONDITION_05_CAT    0\n",
              "CARTYPE_15          0\n",
              "METRIC_09           0\n",
              "METRIC_01           0\n",
              "REGISTRATION_01     0\n",
              "CONDITION_14        0\n",
              "METRIC_12           0\n",
              "METRIC_08           0\n",
              "CONDITION_02_CAT    0\n",
              "CARTYPE_10_CAT      0\n",
              "CONDITION_09_BIN    0\n",
              "CARTYPE_09_CAT      0\n",
              "CARTYPE_11          0\n",
              "CARTYPE_01_CAT      0\n",
              "CONDITION_13_BIN    0\n",
              "METRIC_17_BIN       0\n",
              "CARTYPE_13          0\n",
              "CARTYPE_06_CAT      0\n",
              "METRIC_15_BIN       0\n",
              "CONDITION_03        0\n",
              "METRIC_20_BIN       0\n",
              "METRIC_07           0\n",
              "CARTYPE_02_CAT      0\n",
              "CONDITION_01        0\n",
              "CONDITION_18_BIN    0\n",
              "CONDITION_16_BIN    0\n",
              "CONDITION_07_BIN    0\n",
              "CONDITION_17_BIN    0\n",
              "CARTYPE_11_CAT      0\n",
              "CONDITION_10_BIN    0\n",
              "REGISTRATION_02     0\n",
              "METRIC_16_BIN       0\n",
              "CONDITION_15        0\n",
              "METRIC_03           0\n",
              "METRIC_05           0\n",
              "METRIC_19_BIN       0\n",
              "CARTYPE_08_CAT      0\n",
              "CONDITION_12_BIN    0\n",
              "CONDITION_06_BIN    0\n",
              "METRIC_02           0\n",
              "CARTYPE_04_CAT      0\n",
              "METRIC_13           0\n",
              "CONDITION_04_CAT    0\n",
              "CONDITION_08_BIN    0\n",
              "dtype: int64"
            ]
          },
          "execution_count": 26,
          "metadata": {},
          "output_type": "execute_result"
        }
      ],
      "source": [
        "test_df.isnull().sum()"
      ]
    },
    {
      "cell_type": "code",
      "execution_count": 27,
      "metadata": {
        "id": "HGMah_lem6kk"
      },
      "outputs": [
        {
          "name": "stdout",
          "output_type": "stream",
          "text": [
            "target\n"
          ]
        }
      ],
      "source": [
        "test_X = final_X_test.drop(axis=\"columns\", labels=['id']).to_numpy().astype(np.float64)\n",
        "c1 = final_X_test.columns\n",
        "\n",
        "for i in c:\n",
        "    if i in c1:\n",
        "        continue\n",
        "    else:\n",
        "        print(i)"
      ]
    },
    {
      "cell_type": "code",
      "execution_count": 28,
      "metadata": {
        "id": "SyMPupdw9F9Z"
      },
      "outputs": [],
      "source": [
        "test_yhat = lreg.predict_proba(test_X)"
      ]
    },
    {
      "cell_type": "code",
      "execution_count": 29,
      "metadata": {
        "colab": {
          "base_uri": "https://localhost:8080/"
        },
        "id": "g0UeCIrTmbn7",
        "outputId": "7f2196ec-ce4c-4d9b-cf6e-d630aa60b0dd"
      },
      "outputs": [
        {
          "name": "stdout",
          "output_type": "stream",
          "text": [
            "(297606, 2)\n"
          ]
        }
      ],
      "source": [
        "y_pred_df = pd.DataFrame(data=test_yhat[:,1], columns = [\"target\"])\n",
        "\n",
        "submission_df = pd.concat([test_df[\"id\"], y_pred_df[\"target\"]], axis=1, join='inner')\n",
        "submission_df.to_csv(\"submission.csv\", index = False)\n",
        "print(submission_df.shape)"
      ]
    }
  ],
  "metadata": {
    "colab": {
      "collapsed_sections": [],
      "name": "ML_hackathon_classification.ipynb",
      "provenance": []
    },
    "interpreter": {
      "hash": "916dbcbb3f70747c44a77c7bcd40155683ae19c65e1c03b4aa3499c5328201f1"
    },
    "kernelspec": {
      "display_name": "Python 3.8.10 64-bit",
      "name": "python3"
    },
    "language_info": {
      "codemirror_mode": {
        "name": "ipython",
        "version": 3
      },
      "file_extension": ".py",
      "mimetype": "text/x-python",
      "name": "python",
      "nbconvert_exporter": "python",
      "pygments_lexer": "ipython3",
      "version": "3.8.10"
    }
  },
  "nbformat": 4,
  "nbformat_minor": 0
}
